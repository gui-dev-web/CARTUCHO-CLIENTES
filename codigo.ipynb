{
 "cells": [
  {
   "cell_type": "code",
   "execution_count": 5,
   "id": "50147a24-888a-4b21-aced-cc07ebf437f6",
   "metadata": {},
   "outputs": [
    {
     "name": "stdout",
     "output_type": "stream",
     "text": [
      "Overwriting meu_app.py\n"
     ]
    }
   ],
   "source": [
    "%%writefile meu_app.py\n",
    "import streamlit as st\n",
    "from reportlab.lib.pagesizes import landscape\n",
    "from reportlab.pdfgen import canvas\n",
    "from reportlab.lib.units import mm\n",
    "import tempfile\n",
    "import win32api\n",
    "import win32print\n",
    "\n",
    "st.title(\"Cadastro clientes\")\n",
    "\n",
    "nome = st.text_input(\"Nome do cliente:\")\n",
    "telefone = st.text_input(\"Telefone:\")\n",
    "cartucho = st.text_area(\"Série e cor do cartucho:\")\n",
    "\n",
    "if st.button(\"Imprimir\"):\n",
    "    if not nome or not telefone or not cartucho:\n",
    "        st.warning(\"Preencha todos os campos antes de imprimir.\")\n",
    "    else:\n",
    "        # Define tamanho da folha: 80 mm de largura x 200 mm de altura\n",
    "        largura, altura = 80 * mm, 200 * mm\n",
    "        with tempfile.NamedTemporaryFile(delete=False, suffix=\".pdf\") as tmpfile:\n",
    "            c = canvas.Canvas(tmpfile.name, pagesize=(largura, altura))\n",
    "            c.setFont(\"Helvetica\", 10)\n",
    "            c.drawString(10, altura - 20, \"--- INFORMAÇÕES ---\")\n",
    "            c.drawString(10, altura - 40, f\"Nome: {nome}\")\n",
    "            c.drawString(10, altura - 60, f\"Telefone: {telefone}\")\n",
    "            c.drawString(10, altura - 80, \"Cartucho:\")\n",
    "            text = c.beginText(10, altura - 100)\n",
    "            text.textLines(cartucho)\n",
    "            c.drawText(text)\n",
    "            c.save()\n",
    "            arquivo = tmpfile.name\n",
    "\n",
    "        impressora = win32print.GetDefaultPrinter()\n",
    "        win32api.ShellExecute(0, \"print\", arquivo, None, \".\", 0)\n",
    "        st.success(f\"Enviado para a impressora: {impressora}\")\n"
   ]
  },
  {
   "cell_type": "code",
   "execution_count": 6,
   "id": "01eca8ec-a8c1-452d-96b2-e9ed9ad74307",
   "metadata": {},
   "outputs": [
    {
     "name": "stdout",
     "output_type": "stream",
     "text": [
      "Requirement already satisfied: reportlab in c:\\users\\gui\\anaconda3\\lib\\site-packages (4.4.4)\n",
      "Requirement already satisfied: pillow>=9.0.0 in c:\\users\\gui\\anaconda3\\lib\\site-packages (from reportlab) (10.4.0)\n",
      "Requirement already satisfied: charset-normalizer in c:\\users\\gui\\anaconda3\\lib\\site-packages (from reportlab) (3.3.2)\n"
     ]
    }
   ],
   "source": [
    "!pip install reportlab\n"
   ]
  }
 ],
 "metadata": {
  "kernelspec": {
   "display_name": "Python [conda env:base] *",
   "language": "python",
   "name": "conda-base-py"
  },
  "language_info": {
   "codemirror_mode": {
    "name": "ipython",
    "version": 3
   },
   "file_extension": ".py",
   "mimetype": "text/x-python",
   "name": "python",
   "nbconvert_exporter": "python",
   "pygments_lexer": "ipython3",
   "version": "3.12.7"
  }
 },
 "nbformat": 4,
 "nbformat_minor": 5
}
